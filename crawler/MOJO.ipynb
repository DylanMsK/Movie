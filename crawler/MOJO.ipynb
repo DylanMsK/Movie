{
 "cells": [
  {
   "cell_type": "code",
   "execution_count": 112,
   "metadata": {},
   "outputs": [],
   "source": [
    "import requests\n",
    "from bs4 import BeautifulSoup\n",
    "import csv\n",
    "import json\n",
    "import time\n",
    "import re"
   ]
  },
  {
   "cell_type": "code",
   "execution_count": 2,
   "metadata": {},
   "outputs": [],
   "source": [
    "base_url = 'https://www.boxofficemojo.com'\n",
    "sub_url = '/weekend/chart/?yr=2019&wknd=18&p=.htm'\n",
    "html = requests.get(base_url + sub_url).text\n",
    "soup = BeautifulSoup(html, 'html.parser')"
   ]
  },
  {
   "cell_type": "code",
   "execution_count": 28,
   "metadata": {},
   "outputs": [],
   "source": [
    "movies = soup.findAll('table')[4].findAll('tr')[1:11]"
   ]
  },
  {
   "cell_type": "code",
   "execution_count": 33,
   "metadata": {},
   "outputs": [
    {
     "data": {
      "text/plain": [
       "'/movies/?id=marvel2019.htm'"
      ]
     },
     "execution_count": 33,
     "metadata": {},
     "output_type": "execute_result"
    }
   ],
   "source": [
    "movie = movies[0]\n",
    "movie.findAll('td')[2].find('a').attrs['href']"
   ]
  },
  {
   "cell_type": "code",
   "execution_count": 109,
   "metadata": {},
   "outputs": [],
   "source": [
    "def title_preprocessor(title):\n",
    "    if reg_year.match(title):\n",
    "        title = reg_year.search(title).group()\n",
    "    return title"
   ]
  },
  {
   "cell_type": "code",
   "execution_count": 115,
   "metadata": {},
   "outputs": [
    {
     "name": "stdout",
     "output_type": "stream",
     "text": [
      "1주차...\n",
      "2주차...\n",
      "3주차...\n",
      "4주차...\n",
      "5주차...\n",
      "6주차...\n",
      "7주차...\n",
      "8주차...\n",
      "9주차...\n",
      "10주차...\n",
      "11주차...\n",
      "12주차...\n",
      "13주차...\n",
      "14주차...\n",
      "15주차...\n",
      "16주차...\n",
      "17주차...\n",
      "18주차...\n"
     ]
    }
   ],
   "source": [
    "movie_urls = []\n",
    "movie_list = []\n",
    "reg_year = re.compile('.+(?=\\s\\(\\d{4}\\)$)')\n",
    "base_url = 'https://www.boxofficemojo.com'\n",
    "countries = ['uk', 'france', 'italy', 'spain', 'germany', 'china', 'japan', 'korea', 'australia', 'brazil', 'mexico']\n",
    "\n",
    "for i in range(1, 19):\n",
    "    print(f'{i}주차...')\n",
    "    # 미국\n",
    "    sub_url = f'/weekend/chart/?yr=2019&wknd={i}&p=.htm'\n",
    "    # 다른나라\n",
    "    sub_url = f'/intl/{country}/?yr=2019&wk=18&p=.htm'\n",
    "    html = requests.get(base_url + sub_url).text\n",
    "    soup = BeautifulSoup(html, 'html.parser')\n",
    "    week_list = soup.findAll('table')[4].findAll('tr')[1:11]\n",
    "    for movie in week_list:\n",
    "        # title 추출\n",
    "        title = movie.findAll('td')[2].text\n",
    "        cleaned_title = title_preprocessor(title)\n",
    "        \n",
    "        if cleaned_title not in movie_list:\n",
    "            movie_list.append(cleaned_title)\n",
    "            \n",
    "            temp = {}\n",
    "            temp['title'] = cleaned_title\n",
    "\n",
    "            # detail_url 추출\n",
    "            detail_url = movie.findAll('td')[2].find('a').attrs['href']\n",
    "            temp['detail_url'] = detail_url\n",
    "\n",
    "            html = requests.get(base_url + detail_url).text\n",
    "            soup = BeautifulSoup(html, 'html.parser')\n",
    "\n",
    "            # 개봉연도 추출\n",
    "            year = soup.findAll('table')[4].table.findAll('td')[2].b.text.split()[-1]\n",
    "            temp['year'] = year\n",
    "            \n",
    "#             imdb_api_url = f'http://www.omdbapi.com/?apikey=556ed6ed&t={cleaned_title}&y={year}&plot=full'\n",
    "#             imdb_raw = requests.get()\n",
    "            \n",
    "            \n",
    "            movie_urls.append(temp)"
   ]
  },
  {
   "cell_type": "code",
   "execution_count": 116,
   "metadata": {
    "scrolled": true
   },
   "outputs": [
    {
     "data": {
      "text/plain": [
       "[{'title': 'Aquaman',\n",
       "  'detail_url': '/movies/?id=dcfilm0617.htm',\n",
       "  'year': '2018'},\n",
       " {'title': 'Escape Room',\n",
       "  'detail_url': '/movies/?id=escaperoom.htm',\n",
       "  'year': '2019'},\n",
       " {'title': 'Mary Poppins Returns',\n",
       "  'detail_url': '/movies/?id=disneyliveaction22018.htm',\n",
       "  'year': '2018'},\n",
       " {'title': 'Bumblebee',\n",
       "  'detail_url': '/movies/?id=transformers6.htm',\n",
       "  'year': '2018'},\n",
       " {'title': 'Spider-Man: Into The Spider-Verse',\n",
       "  'detail_url': '/movies/?id=animatedspider-man.htm',\n",
       "  'year': '2018'},\n",
       " {'title': 'The Mule',\n",
       "  'detail_url': '/movies/?id=themule.htm',\n",
       "  'year': '2018'},\n",
       " {'title': 'Vice',\n",
       "  'detail_url': '/movies/?id=dickcheneyfilm.htm',\n",
       "  'year': '2018'},\n",
       " {'title': 'Second Act',\n",
       "  'detail_url': '/movies/?id=secondact.htm',\n",
       "  'year': '2018'},\n",
       " {'title': 'Ralph Breaks the Internet',\n",
       "  'detail_url': '/movies/?id=wreckitralph2.htm',\n",
       "  'year': '2018'},\n",
       " {'title': 'Holmes and Watson',\n",
       "  'detail_url': '/movies/?id=holmeswatson.htm',\n",
       "  'year': '2018'},\n",
       " {'title': 'The Upside',\n",
       "  'detail_url': '/movies/?id=theupside.htm',\n",
       "  'year': '2019'},\n",
       " {'title': \"A Dog's Way Home\",\n",
       "  'detail_url': '/movies/?id=adogswayhome.htm',\n",
       "  'year': '2019'},\n",
       " {'title': 'On the Basis of Sex',\n",
       "  'detail_url': '/movies/?id=onthebasisofsex.htm',\n",
       "  'year': '2018'},\n",
       " {'title': 'Glass',\n",
       "  'detail_url': '/movies/?id=universalevent2019.htm',\n",
       "  'year': '2019'},\n",
       " {'title': 'Dragon Ball Super: Broly',\n",
       "  'detail_url': '/movies/?id=dragonballzbroly.htm',\n",
       "  'year': '2019'},\n",
       " {'title': 'The Kid Who Would be King',\n",
       "  'detail_url': '/movies/?id=kidwhowouldbeking.htm',\n",
       "  'year': '2019'},\n",
       " {'title': 'Green Book',\n",
       "  'detail_url': '/movies/?id=greenbook.htm',\n",
       "  'year': '2018'},\n",
       " {'title': 'Serenity',\n",
       "  'detail_url': '/movies/?id=serenity2018.htm',\n",
       "  'year': '2019'},\n",
       " {'title': 'Miss Bala',\n",
       "  'detail_url': '/movies/?id=missbala.htm',\n",
       "  'year': '2019'},\n",
       " {'title': 'They Shall Not Grow Old',\n",
       "  'detail_url': '/movies/?id=theyshallnotgrowold.htm',\n",
       "  'year': '2018'},\n",
       " {'title': 'The LEGO Movie 2: The Second Part',\n",
       "  'detail_url': '/movies/?id=warneranimated0518.htm',\n",
       "  'year': '2019'},\n",
       " {'title': 'What Men Want',\n",
       "  'detail_url': '/movies/?id=whatmenwant.htm',\n",
       "  'year': '2019'},\n",
       " {'title': 'Cold Pursuit',\n",
       "  'detail_url': '/movies/?id=hardpowder.htm',\n",
       "  'year': '2019'},\n",
       " {'title': 'The Prodigy',\n",
       "  'detail_url': '/movies/?id=theprodigy.htm',\n",
       "  'year': '2019'},\n",
       " {'title': 'Alita: Battle Angel',\n",
       "  'detail_url': '/movies/?id=alita.htm',\n",
       "  'year': '2019'},\n",
       " {'title': \"Isn't It Romantic\",\n",
       "  'detail_url': '/movies/?id=isntitromantic.htm',\n",
       "  'year': '2019'},\n",
       " {'title': 'Happy Death Day 2U',\n",
       "  'detail_url': '/movies/?id=untitledblum2019c.htm',\n",
       "  'year': '2019'},\n",
       " {'title': 'How to Train Your Dragon: The Hidden World',\n",
       "  'detail_url': '/movies/?id=httyd3.htm',\n",
       "  'year': '2019'},\n",
       " {'title': 'Fighting with My Family',\n",
       "  'detail_url': '/movies/?id=fightingwithmyfamily.htm',\n",
       "  'year': '2019'},\n",
       " {'title': 'Run the Race',\n",
       "  'detail_url': '/movies/?id=runtherace.htm',\n",
       "  'year': '2019'},\n",
       " {'title': \"Tyler Perry's A Madea Family Funeral\",\n",
       "  'detail_url': '/movies/?id=tylerperrysamadeafamilyfuneral.htm',\n",
       "  'year': '2019'},\n",
       " {'title': 'Greta', 'detail_url': '/movies/?id=greta.htm', 'year': '2019'},\n",
       " {'title': 'Captain Marvel ',\n",
       "  'detail_url': '/movies/?id=marvel2018a.htm',\n",
       "  'year': '2019'},\n",
       " {'title': 'Apollo 11',\n",
       "  'detail_url': '/movies/?id=apollo11.htm',\n",
       "  'year': '2019'},\n",
       " {'title': 'Wonder Park',\n",
       "  'detail_url': '/movies/?id=amusementpark.htm',\n",
       "  'year': '2019'},\n",
       " {'title': 'Five Feet Apart',\n",
       "  'detail_url': '/movies/?id=fivefeetapart.htm',\n",
       "  'year': '2019'},\n",
       " {'title': 'No Manches Frida 2',\n",
       "  'detail_url': '/movies/?id=nomanchesfrida2.htm',\n",
       "  'year': '2019'},\n",
       " {'title': 'Captive State',\n",
       "  'detail_url': '/movies/?id=captivestate.htm',\n",
       "  'year': '2019'},\n",
       " {'title': 'Us',\n",
       "  'detail_url': '/movies/?id=untitledjordanpeele.htm',\n",
       "  'year': '2019'},\n",
       " {'title': 'Gloria Bell',\n",
       "  'detail_url': '/movies/?id=gloriabell.htm',\n",
       "  'year': '2019'},\n",
       " {'title': 'Dumbo',\n",
       "  'detail_url': '/movies/?id=untitleddisneyfairytalela.htm',\n",
       "  'year': '2019'},\n",
       " {'title': 'Unplanned',\n",
       "  'detail_url': '/movies/?id=unplanned.htm',\n",
       "  'year': '2019'},\n",
       " {'title': 'Hotel Mumbai',\n",
       "  'detail_url': '/movies/?id=hotelmumbai.htm',\n",
       "  'year': '2019'},\n",
       " {'title': 'The Beach Bum',\n",
       "  'detail_url': '/movies/?id=thebeachbum.htm',\n",
       "  'year': '2019'},\n",
       " {'title': 'Shazam!',\n",
       "  'detail_url': '/movies/?id=untitledmovieiv.htm',\n",
       "  'year': '2019'},\n",
       " {'title': 'Pet Sematary',\n",
       "  'detail_url': '/movies/?id=petsematary2019.htm',\n",
       "  'year': '2019'},\n",
       " {'title': 'The Best of Enemies',\n",
       "  'detail_url': '/movies/?id=thebestofenemies2019.htm',\n",
       "  'year': '2019'},\n",
       " {'title': 'Little', 'detail_url': '/movies/?id=little19.htm', 'year': '2019'},\n",
       " {'title': 'Hellboy',\n",
       "  'detail_url': '/movies/?id=hellboy2019.htm',\n",
       "  'year': '2019'},\n",
       " {'title': 'After', 'detail_url': '/movies/?id=after2019.htm', 'year': '2019'},\n",
       " {'title': 'Missing Link',\n",
       "  'detail_url': '/movies/?id=laika2018.htm',\n",
       "  'year': '2019'},\n",
       " {'title': 'The Curse of La Llorona ',\n",
       "  'detail_url': '/movies/?id=untitlednewline.htm',\n",
       "  'year': '2019'},\n",
       " {'title': 'Breakthrough',\n",
       "  'detail_url': '/movies/?id=breakthrough.htm',\n",
       "  'year': '2019'},\n",
       " {'title': 'Avengers: Endgame',\n",
       "  'detail_url': '/movies/?id=marvel2019.htm',\n",
       "  'year': '2019'},\n",
       " {'title': 'Penguins (Disneynature)',\n",
       "  'detail_url': '/movies/?id=penguinsdisneynature.htm',\n",
       "  'year': '2019'},\n",
       " {'title': 'The Intruder',\n",
       "  'detail_url': '/movies/?id=theintruder2019.htm',\n",
       "  'year': '2019'},\n",
       " {'title': 'Long Shot',\n",
       "  'detail_url': '/movies/?id=flarsky.htm',\n",
       "  'year': '2019'},\n",
       " {'title': 'Uglydolls',\n",
       "  'detail_url': '/movies/?id=uglydolls.htm',\n",
       "  'year': '2019'}]"
      ]
     },
     "execution_count": 116,
     "metadata": {},
     "output_type": "execute_result"
    }
   ],
   "source": [
    "movie_urls"
   ]
  },
  {
   "cell_type": "code",
   "execution_count": 10,
   "metadata": {},
   "outputs": [],
   "source": [
    "html = requests.get(base_url + movie_urls[0]['url']).text\n",
    "soup = BeautifulSoup(html, 'html.parser')"
   ]
  },
  {
   "cell_type": "code",
   "execution_count": 29,
   "metadata": {},
   "outputs": [
    {
     "data": {
      "text/plain": [
       "'2019'"
      ]
     },
     "execution_count": 29,
     "metadata": {},
     "output_type": "execute_result"
    }
   ],
   "source": [
    "soup.findAll('table')[4].table.findAll('td')[2].b.text.split()[-1]"
   ]
  },
  {
   "cell_type": "code",
   "execution_count": 117,
   "metadata": {},
   "outputs": [],
   "source": [
    "with open('./mojo_us.csv', 'w') as f:\n",
    "    fieldnames = ['title', 'detail_url', 'year']\n",
    "    writer = csv.DictWriter(f, fieldnames=fieldnames)\n",
    "    for row in movie_urls:\n",
    "        writer.writerow(row)"
   ]
  },
  {
   "cell_type": "code",
   "execution_count": 107,
   "metadata": {},
   "outputs": [
    {
     "name": "stdout",
     "output_type": "stream",
     "text": [
      "The Chaperone\n"
     ]
    }
   ],
   "source": [
    "title = 'The Chaperone (2019)'\n",
    "reg_year = re.compile('.+(?=\\s\\(\\d{4}\\)$)')\n",
    "if reg_year.match(title):\n",
    "    title = reg_year.search(title).group()\n",
    "    print(title)\n",
    "else:\n",
    "    print(title)"
   ]
  },
  {
   "cell_type": "code",
   "execution_count": 110,
   "metadata": {},
   "outputs": [],
   "source": [
    "title = 'The Intruder'\n",
    "year = '2019'\n",
    "url = f'http://www.omdbapi.com/?apikey=556ed6ed&t={title}&y={year}&plot=full'\n",
    "\n",
    "data = requests.get(url).text\n"
   ]
  },
  {
   "cell_type": "code",
   "execution_count": 113,
   "metadata": {},
   "outputs": [],
   "source": [
    "movie_detail = json.loads(data)"
   ]
  },
  {
   "cell_type": "code",
   "execution_count": 114,
   "metadata": {},
   "outputs": [
    {
     "data": {
      "text/plain": [
       "{'Title': 'The Intruder',\n",
       " 'Year': '2019',\n",
       " 'Rated': 'PG-13',\n",
       " 'Released': '03 May 2019',\n",
       " 'Runtime': '102 min',\n",
       " 'Genre': 'Drama, Horror, Mystery, Thriller',\n",
       " 'Director': 'Deon Taylor',\n",
       " 'Writer': 'David Loughery',\n",
       " 'Actors': 'Meagan Good, Dennis Quaid, Michael Ealy, Joseph Sikora',\n",
       " 'Plot': 'A young married couple buy a beautiful house on several acres of land only to find out that the man they bought it from refuses to let go of the property.',\n",
       " 'Language': 'English',\n",
       " 'Country': 'USA',\n",
       " 'Awards': 'N/A',\n",
       " 'Poster': 'https://m.media-amazon.com/images/M/MV5BMzg1ZjcxNjgtMTliNC00NzU3LWE3NGMtZTBjMWFmYzk4OWE0XkEyXkFqcGdeQXVyMDA4NzMyOA@@._V1_SX300.jpg',\n",
       " 'Ratings': [],\n",
       " 'Metascore': 'N/A',\n",
       " 'imdbRating': 'N/A',\n",
       " 'imdbVotes': 'N/A',\n",
       " 'imdbID': 'tt6722030',\n",
       " 'Type': 'movie',\n",
       " 'DVD': 'N/A',\n",
       " 'BoxOffice': 'N/A',\n",
       " 'Production': 'Screen Gems',\n",
       " 'Website': 'N/A',\n",
       " 'Response': 'True'}"
      ]
     },
     "execution_count": 114,
     "metadata": {},
     "output_type": "execute_result"
    }
   ],
   "source": [
    "movie_detail"
   ]
  },
  {
   "cell_type": "code",
   "execution_count": null,
   "metadata": {},
   "outputs": [],
   "source": []
  }
 ],
 "metadata": {
  "kernelspec": {
   "display_name": "Python 3",
   "language": "python",
   "name": "python3"
  },
  "language_info": {
   "codemirror_mode": {
    "name": "ipython",
    "version": 3
   },
   "file_extension": ".py",
   "mimetype": "text/x-python",
   "name": "python",
   "nbconvert_exporter": "python",
   "pygments_lexer": "ipython3",
   "version": "3.7.2"
  }
 },
 "nbformat": 4,
 "nbformat_minor": 2
}
